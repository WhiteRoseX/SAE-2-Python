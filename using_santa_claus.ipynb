{
 "cells": [
  {
   "cell_type": "markdown",
   "metadata": {},
   "source": [
    "Question 4:\n",
    "\n",
    "Théoriquement, la complexité de long_tour est en O(n) donc linéaire, où n est la taille du tour. Pour tour_length, la complexité est également en O(n). Cependant, expérimentalement, tour_length pourrait être plus rapide car elle utilise un dictionnaire de distances."
   ]
  },
  {
   "cell_type": "markdown",
   "metadata": {},
   "source": [
    "Question 8:\n",
    "\n",
    "La complexité asymptotique de best_tour_from_closest_city est en O(n^2) donc quadratique, où n est le nombre de villes. Cela est dû à la boucle externe qui explore chaque ville comme point de départ et à la boucle interne de tour_from_closest_city."
   ]
  },
  {
   "cell_type": "markdown",
   "metadata": {},
   "source": [
    "Question 13:\n",
    "\n",
    "Pour comparer expérimentalement les différentes méthodes, vous pouvez utiliser des données réelles de fichiers de villes et mesurer le temps d'exécution ainsi que la qualité des solutions obtenues. Vous pouvez utiliser la bibliothèque time pour mesurer le temps d'exécution.\n",
    "\n",
    "En général, l'algorithme heuristique de construction de tour initial en ajoutant la ville la plus proche suivi de l'amélioration par inversion peut donner de bons résultats. Cependant, la meilleure méthode dépendra des données spécifiques et de la taille du problème. Il peut être utile d'expérimenter avec différentes approches pour déterminer la meilleure méthode pour vos cas d'utilisation spécifiques.\n",
    "\n",
    "\n",
    "\n",
    "\n",
    "\n"
   ]
  }
 ],
 "metadata": {
  "language_info": {
   "name": "python"
  },
  "orig_nbformat": 4
 },
 "nbformat": 4,
 "nbformat_minor": 2
}
